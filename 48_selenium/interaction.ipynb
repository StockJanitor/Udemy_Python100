{
 "cells": [
  {
   "cell_type": "code",
   "execution_count": 1,
   "metadata": {},
   "outputs": [],
   "source": [
    "from selenium import webdriver\n",
    "from selenium.webdriver.common.by import By\n",
    "from selenium.webdriver.chrome.service import Service as ChromeService\n",
    "import time\n",
    "\n",
    "chrome_driver_path = r\"C:\\Users\\Gumo\\Desktop\\Git\\Develop\\chromedriver\"\n",
    "driver = webdriver.Chrome(service=ChromeService(chrome_driver_path))\n",
    "driver.get(\"http://orteil.dashnet.org/experiments/cookie/\")\n",
    "\n"
   ]
  },
  {
   "cell_type": "code",
   "execution_count": 3,
   "metadata": {},
   "outputs": [],
   "source": [
    "# find cookie\n",
    "cookie = driver.find_element(by=By.ID,value=\"cookie\")\n",
    "\n",
    "\n",
    "#Get upgrade item ids.\n",
    "items = driver.find_elements(by=By.CSS_SELECTOR,value=\"#store div\")\n",
    "\n",
    "#obtaining each item id\n",
    "item_ids = [item.get_attribute(\"id\") for item in items]"
   ]
  },
  {
   "cell_type": "code",
   "execution_count": null,
   "metadata": {},
   "outputs": [],
   "source": [
    "keep_click = True\n",
    "while keep_click:\n",
    "    cookie.click()\n",
    "\n",
    "    "
   ]
  }
 ],
 "metadata": {
  "kernelspec": {
   "display_name": "Python 3.10.5 ('desktop_env')",
   "language": "python",
   "name": "python3"
  },
  "language_info": {
   "codemirror_mode": {
    "name": "ipython",
    "version": 3
   },
   "file_extension": ".py",
   "mimetype": "text/x-python",
   "name": "python",
   "nbconvert_exporter": "python",
   "pygments_lexer": "ipython3",
   "version": "3.10.5"
  },
  "orig_nbformat": 4,
  "vscode": {
   "interpreter": {
    "hash": "b4dc6631ffef5a733ac58430eb0e8cf8f73f165587c4c3dfb32dbf0eaaadea6b"
   }
  }
 },
 "nbformat": 4,
 "nbformat_minor": 2
}
