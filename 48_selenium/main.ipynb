{
 "cells": [
  {
   "cell_type": "code",
   "execution_count": 24,
   "metadata": {},
   "outputs": [
    {
     "name": "stderr",
     "output_type": "stream",
     "text": [
      "C:\\Users\\Gumo\\AppData\\Local\\Temp\\ipykernel_10344\\278216659.py:6: DeprecationWarning: executable_path has been deprecated, please pass in a Service object\n",
      "  driver = webdriver.Chrome(executable_path=path_chrome_driver)\n"
     ]
    }
   ],
   "source": [
    "from selenium import webdriver\n",
    "from selenium.webdriver.common.by import By\n",
    "\n",
    "path_chrome_driver = r\"C:\\Users\\Gumo\\Desktop\\Git\\Develop\\chromedriver\"\n",
    "\n",
    "driver = webdriver.Chrome(executable_path=path_chrome_driver)\n",
    "\n",
    "driver.get(\"https://www.python.org/\")\n",
    "\n",
    "\n"
   ]
  },
  {
   "cell_type": "code",
   "execution_count": 23,
   "metadata": {},
   "outputs": [
    {
     "name": "stdout",
     "output_type": "stream",
     "text": [
      "https://www.python.org/events/python-user-group/1310/\n",
      "https://www.python.org/events/python-user-group/1317/\n",
      "https://www.python.org/events/python-user-group/1318/\n",
      "https://www.python.org/events/python-events/1092/\n",
      "https://www.python.org/events/python-events/1273/\n"
     ]
    }
   ],
   "source": [
    "items = driver.find_elements(by=By.CSS_SELECTOR, value='.event-widget time')\n",
    "names = driver.find_elements(by=By.CSS_SELECTOR, value='.event-widget li a')\n",
    "for time in names:\n",
    "    print(time.get_attribute(\"href\"))"
   ]
  },
  {
   "cell_type": "code",
   "execution_count": null,
   "metadata": {},
   "outputs": [],
   "source": [
    "from selenium import webdriver\n",
    "from selenium.webdriver.common.by import By\n",
    "from selenium.webdriver.chrome.service import Service as ChromeService\n",
    "\n",
    "from selenium.webdriver.common.keys import Keys\n",
    "\n",
    "path_chrome_driver = r\"C:\\Users\\Gumo\\Desktop\\Git\\Develop\\chromedriver\"\n",
    "\n",
    "driver = webdriver.Chrome(service=ChromeService(path_chrome_driver))\n",
    "\n",
    "driver.get(\"https://secure-retreat-92358.herokuapp.com/\")\n",
    "fName = driver.find_element(by=By.NAME,value=\"fName\")\n",
    "fName.send_keys(\"Jay\")\n",
    "lName = driver.find_element(by=By.NAME,value=\"lName\")\n",
    "lName.send_keys(\"Jay\")\n",
    "email = driver.find_element(by=By.NAME,value=\"email\")\n",
    "email.send_keys(\"stockjanitor@gmail.com\")\n",
    "email.send_keys(Keys.ENTER)\n"
   ]
  }
 ],
 "metadata": {
  "kernelspec": {
   "display_name": "Python 3.10.5 ('desktop_env')",
   "language": "python",
   "name": "python3"
  },
  "language_info": {
   "codemirror_mode": {
    "name": "ipython",
    "version": 3
   },
   "file_extension": ".py",
   "mimetype": "text/x-python",
   "name": "python",
   "nbconvert_exporter": "python",
   "pygments_lexer": "ipython3",
   "version": "3.10.5"
  },
  "orig_nbformat": 4,
  "vscode": {
   "interpreter": {
    "hash": "b4dc6631ffef5a733ac58430eb0e8cf8f73f165587c4c3dfb32dbf0eaaadea6b"
   }
  }
 },
 "nbformat": 4,
 "nbformat_minor": 2
}
