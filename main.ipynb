{
 "cells": [
  {
   "cell_type": "code",
   "execution_count": 7,
   "metadata": {},
   "outputs": [
    {
     "name": "stdout",
     "output_type": "stream",
     "text": [
      "Welcome to Python Pizza Deliveries!\n"
     ]
    },
    {
     "ename": "NameError",
     "evalue": "name 'MYN' is not defined",
     "output_type": "error",
     "traceback": [
      "\u001b[1;31m---------------------------------------------------------------------------\u001b[0m",
      "\u001b[1;31mNameError\u001b[0m                                 Traceback (most recent call last)",
      "\u001b[1;32mc:\\Users\\Gumo\\Desktop\\Git\\Class\\Udemy\\main.ipynb Cell 1'\u001b[0m in \u001b[0;36m<module>\u001b[1;34m\u001b[0m\n\u001b[0;32m     <a href='vscode-notebook-cell:/c%3A/Users/Gumo/Desktop/Git/Class/Udemy/main.ipynb#ch0000000?line=21'>22</a>\u001b[0m \u001b[39mif\u001b[39;00m extra_cheese:\n\u001b[0;32m     <a href='vscode-notebook-cell:/c%3A/Users/Gumo/Desktop/Git/Class/Udemy/main.ipynb#ch0000000?line=22'>23</a>\u001b[0m     cost \u001b[39m=\u001b[39m cost \u001b[39m+\u001b[39m \u001b[39m1\u001b[39m\n\u001b[1;32m---> <a href='vscode-notebook-cell:/c%3A/Users/Gumo/Desktop/Git/Class/Udemy/main.ipynb#ch0000000?line=23'>24</a>\u001b[0m MYN\n\u001b[0;32m     <a href='vscode-notebook-cell:/c%3A/Users/Gumo/Desktop/Git/Class/Udemy/main.ipynb#ch0000000?line=25'>26</a>\u001b[0m \u001b[39mprint\u001b[39m(\u001b[39mf\u001b[39m\u001b[39m\"\u001b[39m\u001b[39mYour final bill is: $\u001b[39m\u001b[39m{\u001b[39;00mcost\u001b[39m}\u001b[39;00m\u001b[39m\"\u001b[39m)\n",
      "\u001b[1;31mNameError\u001b[0m: name 'MYN' is not defined"
     ]
    }
   ],
   "source": [
    "# 🚨 Don't change the code below 👇\n",
    "print(\"Welcome to Python Pizza Deliveries!\")\n",
    "size = input(\"What size pizza do you want? S, M, or L \")\n",
    "add_pepperoni = True if input(\"Do you want pepperoni? Y or N \") == \"Y\" else False\n",
    "extra_cheese = True if input(\"Do you want extra cheese? Y or N \") == \"Y\" else False\n",
    "# 🚨 Don't change the code above 👆\n",
    "\n",
    "#Write your code below this line 👇\n",
    "cost = 0\n",
    "if size ==\"S\":\n",
    "    cost = cost + 15\n",
    "elif size ==\"M\":\n",
    "    cost = cost + 20\n",
    "else:\n",
    "    cost = cost + 25\n",
    "\n",
    "if add_pepperoni and size ==\"S\":\n",
    "    cost = cost + 2\n",
    "elif add_pepperoni:\n",
    "    cost = cost + 3\n",
    "\n",
    "if extra_cheese:\n",
    "    cost = cost + 1\n",
    "MYN\n",
    "    \n",
    "print(f\"Your final bill is: ${cost}\")\n"
   ]
  },
  {
   "cell_type": "code",
   "execution_count": 11,
   "metadata": {},
   "outputs": [
    {
     "name": "stdout",
     "output_type": "stream",
     "text": [
      "Welcome to the Love Calculator!\n",
      "Your score is 22.\n"
     ]
    }
   ],
   "source": [
    "# 🚨 Don't change the code below 👇\n",
    "print(\"Welcome to the Love Calculator!\")\n",
    "name1 = input(\"What is your name? \\n\")\n",
    "name2 = input(\"What is their name? \\n\")\n",
    "# 🚨 Don't change the code above 👆\n",
    "\n",
    "#Write your code below this line 👇\n",
    "\n",
    "\n",
    "t = (name1 + name2).lower().count(\"t\")\n",
    "r = (name1 + name2).lower().count(\"r\")\n",
    "u = (name1 + name2).lower().count(\"u\")\n",
    "e = (name1 + name2).lower().count(\"e\")\n",
    "\n",
    "l = (name1 + name2).lower().count(\"l\")\n",
    "o = (name1 + name2).lower().count(\"o\")\n",
    "v = (name1 + name2).lower().count(\"v\")\n",
    "\n",
    "loveScore = (t+r+u+e) * 10 + (l+o+v+e)\n",
    "\n",
    "if (90<loveScore or loveScore< 10):\n",
    "    print(f\"Your score is {loveScore}, you go together like coke and mentos.\")\n",
    "elif (40<loveScore and loveScore < 50):\n",
    "    print(f\"Your score is {loveScore}, you are alright together.\")\n",
    "else:\n",
    "    print(f\"Your score is {loveScore}.\")"
   ]
  },
  {
   "cell_type": "code",
   "execution_count": 13,
   "metadata": {},
   "outputs": [
    {
     "name": "stdout",
     "output_type": "stream",
     "text": [
      "['⬜️', '⬜️', '⬜️']\n",
      "['⬜️', '⬜️', '⬜️']\n",
      "['⬜️', '⬜️', '⬜️']\n",
      "['⬜️', '⬜️', '⬜️']\n",
      "['⬜️', '⬜️', '⬜️']\n",
      "['⬜️', '⬜️', 'X']\n"
     ]
    }
   ],
   "source": [
    "# 🚨 Don't change the code below 👇\n",
    "row1 = [\"⬜️\",\"⬜️\",\"⬜️\"]\n",
    "row2 = [\"⬜️\",\"⬜️\",\"⬜️\"]\n",
    "row3 = [\"⬜️\",\"⬜️\",\"⬜️\"]\n",
    "map = [row1, row2, row3]\n",
    "print(f\"{row1}\\n{row2}\\n{row3}\")\n",
    "position = input(\"Where do you want to put the treasure? \")\n",
    "# 🚨 Don't change the code above 👆\n",
    "\n",
    "#Write your code below this row 👇\n",
    "a = int(position[0])\n",
    "b = int(position[1])\n",
    "map[a][b] = \"X\"\n",
    "\n",
    "\n",
    "\n",
    "#Write your code above this row 👆\n",
    "\n",
    "# 🚨 Don't change the code below 👇\n",
    "print(f\"{row1}\\n{row2}\\n{row3}\")"
   ]
  },
  {
   "cell_type": "code",
   "execution_count": null,
   "metadata": {},
   "outputs": [],
   "source": []
  }
 ],
 "metadata": {
  "interpreter": {
   "hash": "e52f0acb62277a0650bfff77da04ba673c2aea9766c31330e505b6d4a0bc7e22"
  },
  "kernelspec": {
   "display_name": "Python 3.9.6 ('desktop_env')",
   "language": "python",
   "name": "python3"
  },
  "language_info": {
   "codemirror_mode": {
    "name": "ipython",
    "version": 3
   },
   "file_extension": ".py",
   "mimetype": "text/x-python",
   "name": "python",
   "nbconvert_exporter": "python",
   "pygments_lexer": "ipython3",
   "version": "3.9.6"
  },
  "orig_nbformat": 4
 },
 "nbformat": 4,
 "nbformat_minor": 2
}
