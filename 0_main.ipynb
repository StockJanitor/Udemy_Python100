{
 "cells": [
  {
   "cell_type": "code",
   "execution_count": 1,
   "metadata": {},
   "outputs": [],
   "source": [
    "question_data = [\n",
    "{\"text\": \"A slug's blood is green.\", \"answer\": \"True\"},\n",
    "{\"text\": \"The loudest animal is the African Elephant.\", \"answer\": \"False\"},\n",
    "{\"text\": \"Approximately one quarter of human bones are in the feet.\", \"answer\": \"True\"},\n",
    "{\"text\": \"The total surface area of a human lungs is the size of a football pitch.\", \"answer\": \"True\"},\n",
    "{\"text\": \"In West Virginia, USA, if you accidentally hit an animal with your car, you are free to take it home to eat.\", \"answer\": \"True\"},\n",
    "{\"text\": \"In London, UK, if you happen to die in the House of Parliament, you are entitled to a state funeral.\", \"answer\": \"False\"},\n",
    "{\"text\": \"It is illegal to pee in the Ocean in Portugal.\", \"answer\": \"True\"},\n",
    "{\"text\": \"You can lead a cow down stairs but not up stairs.\", \"answer\": \"False\"},\n",
    "{\"text\": \"Google was originally called 'Backrub'.\", \"answer\": \"True\"},\n",
    "{\"text\": \"Buzz Aldrin's mother's maiden name was 'Moon'.\", \"answer\": \"True\"},\n",
    "{\"text\": \"No piece of square dry paper can be folded in half more than 7 times.\", \"answer\": \"False\"},\n",
    "{\"text\": \"A few ounces of chocolate can to kill a small dog.\", \"answer\": \"True\"}\n",
    "]"
   ]
  },
  {
   "cell_type": "code",
   "execution_count": 6,
   "metadata": {},
   "outputs": [
    {
     "name": "stdout",
     "output_type": "stream",
     "text": [
      "A slug's blood is green.\n",
      "The loudest animal is the African Elephant.\n",
      "Approximately one quarter of human bones are in the feet.\n",
      "The total surface area of a human lungs is the size of a football pitch.\n",
      "In West Virginia, USA, if you accidentally hit an animal with your car, you are free to take it home to eat.\n",
      "In London, UK, if you happen to die in the House of Parliament, you are entitled to a state funeral.\n",
      "It is illegal to pee in the Ocean in Portugal.\n",
      "You can lead a cow down stairs but not up stairs.\n",
      "Google was originally called 'Backrub'.\n",
      "Buzz Aldrin's mother's maiden name was 'Moon'.\n",
      "No piece of square dry paper can be folded in half more than 7 times.\n",
      "A few ounces of chocolate can to kill a small dog.\n"
     ]
    }
   ],
   "source": [
    "for i in question_data:\n",
    "    print(i[\"text\"])\n",
    "\n"
   ]
  },
  {
   "cell_type": "code",
   "execution_count": 2,
   "metadata": {},
   "outputs": [
    {
     "name": "stdout",
     "output_type": "stream",
     "text": [
      "50\n"
     ]
    }
   ],
   "source": [
    "try:\n",
    "    print(MENU[\"espresso\"][\"ingredients\"][\"water\"])\n",
    "except:\n",
    "    pass"
   ]
  },
  {
   "cell_type": "code",
   "execution_count": null,
   "metadata": {},
   "outputs": [],
   "source": []
  }
 ],
 "metadata": {
  "kernelspec": {
   "display_name": "Python 3.9.6 ('desktop_env')",
   "language": "python",
   "name": "python3"
  },
  "language_info": {
   "codemirror_mode": {
    "name": "ipython",
    "version": 3
   },
   "file_extension": ".py",
   "mimetype": "text/x-python",
   "name": "python",
   "nbconvert_exporter": "python",
   "pygments_lexer": "ipython3",
   "version": "3.9.6"
  },
  "orig_nbformat": 4,
  "vscode": {
   "interpreter": {
    "hash": "e52f0acb62277a0650bfff77da04ba673c2aea9766c31330e505b6d4a0bc7e22"
   }
  }
 },
 "nbformat": 4,
 "nbformat_minor": 2
}
