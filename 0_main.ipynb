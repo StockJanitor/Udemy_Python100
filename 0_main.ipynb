{
 "cells": [
  {
   "cell_type": "code",
   "execution_count": 2,
   "metadata": {},
   "outputs": [
    {
     "data": {
      "text/plain": [
       "3"
      ]
     },
     "execution_count": 2,
     "metadata": {},
     "output_type": "execute_result"
    }
   ],
   "source": [
    "3 % 26"
   ]
  },
  {
   "cell_type": "code",
   "execution_count": 1,
   "metadata": {},
   "outputs": [],
   "source": [
    "MENU = {\n",
    "    \"espresso\": {\n",
    "        \"ingredients\": {\n",
    "            \"water\": 50,\n",
    "            \"coffee\": 18,\n",
    "        },\n",
    "        \"cost\": 1.5,\n",
    "    },\n",
    "    \"latte\": {\n",
    "        \"ingredients\": {\n",
    "            \"water\": 200,\n",
    "            \"milk\": 150,\n",
    "            \"coffee\": 24,\n",
    "        },\n",
    "        \"cost\": 2.5,\n",
    "    },\n",
    "    \"cappuccino\": {\n",
    "        \"ingredients\": {\n",
    "            \"water\": 250,\n",
    "            \"milk\": 100,\n",
    "            \"coffee\": 24,\n",
    "        },\n",
    "        \"cost\": 3.0,\n",
    "    }\n",
    "}\n",
    "\n",
    "resources = {\n",
    "    \"water\": 300,\n",
    "    \"milk\": 200,\n",
    "    \"coffee\": 100,\n",
    "}\n",
    "\n",
    "\n"
   ]
  },
  {
   "cell_type": "code",
   "execution_count": 2,
   "metadata": {},
   "outputs": [
    {
     "name": "stdout",
     "output_type": "stream",
     "text": [
      "{'water': 50, 'coffee': 18}\n"
     ]
    }
   ],
   "source": [
    "try:\n",
    "    print(MENU[\"espresso\"][\"ingredients\"])\n",
    "except:\n",
    "    pass"
   ]
  },
  {
   "cell_type": "code",
   "execution_count": null,
   "metadata": {},
   "outputs": [],
   "source": []
  }
 ],
 "metadata": {
  "interpreter": {
   "hash": "e52f0acb62277a0650bfff77da04ba673c2aea9766c31330e505b6d4a0bc7e22"
  },
  "kernelspec": {
   "display_name": "Python 3.9.6 ('desktop_env')",
   "language": "python",
   "name": "python3"
  },
  "language_info": {
   "codemirror_mode": {
    "name": "ipython",
    "version": 3
   },
   "file_extension": ".py",
   "mimetype": "text/x-python",
   "name": "python",
   "nbconvert_exporter": "python",
   "pygments_lexer": "ipython3",
   "version": "3.9.6"
  },
  "orig_nbformat": 4
 },
 "nbformat": 4,
 "nbformat_minor": 2
}
