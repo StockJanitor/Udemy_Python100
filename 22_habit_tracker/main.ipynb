{
 "cells": [
  {
   "cell_type": "code",
   "execution_count": 1,
   "metadata": {},
   "outputs": [],
   "source": [
    "# links\n",
    "# https://docs.pixe.la/entry/post-user\n",
    "# https://pixe.la/v1/users/stockjanitor/graphs/donut.html\n",
    "\n",
    "import requests\n",
    "from datetime import datetime\n",
    "path_pixela = r\"C:\\Users\\Gumo\\Desktop\\Git\\Notebook\\keys\\pixela.txt\"\n",
    "\n",
    "with open(path_pixela,\"r\") as newsfile:\n",
    "    TOKEN = newsfile.readline()\n",
    "USERNAME =\"stockjanitor\"\n",
    "headers={\n",
    "    \"X-USER-TOKEN\":TOKEN\n",
    "}\n",
    "\n"
   ]
  },
  {
   "cell_type": "code",
   "execution_count": 5,
   "metadata": {},
   "outputs": [
    {
     "name": "stdout",
     "output_type": "stream",
     "text": [
      "<class 'str'>\n"
     ]
    }
   ],
   "source": [
    "graph_id = \"donut\"\n",
    "donuts = \"48\"\n",
    "\n",
    "today=datetime(year=2022,month=8,day=19)\n",
    "# today = datetime.now()\n",
    "\n",
    "\n",
    "\n",
    "\n",
    "\n",
    "################### no need edit ###################\n",
    "today = today.strftime(\"%Y%m%d\")\n",
    "\n",
    "url_base = \"https://pixe.la/v1/users\"\n",
    "# url_graph = f\"https://pixe.la/v1/users/{USERNAME}/graphs\"         # create graph\n",
    "url_edits = f\"{url_base}/{USERNAME}/graphs/{graph_id}\"              # post pixel, edit graph\n",
    "# url_delete = f\"{url_base}/{USERNAME}/graphs/{graph_id}/{today}\"   # delete graph/pixel, pixel include date graph doesnt\n",
    "\n",
    "\n",
    "# pixel params\n",
    "post_pixel_params = {\n",
    "    \"date\":today,\n",
    "    \"quantity\": donuts\n",
    "\n",
    "}\n",
    "\n",
    "# edit graph params\n",
    "edit_graph_params={\n",
    "    \"color\":\"sora\"\n",
    "}\n",
    "print(type(today))"
   ]
  },
  {
   "cell_type": "code",
   "execution_count": 3,
   "metadata": {},
   "outputs": [
    {
     "name": "stdout",
     "output_type": "stream",
     "text": [
      "{\"message\":\"Success.\",\"isSuccess\":true}\n"
     ]
    }
   ],
   "source": [
    "# post - edit\n",
    "response = requests.post(url=url_edits,json=post_pixel_params,headers=headers)\n",
    "print(response.text)"
   ]
  },
  {
   "cell_type": "code",
   "execution_count": null,
   "metadata": {},
   "outputs": [],
   "source": []
  }
 ],
 "metadata": {
  "kernelspec": {
   "display_name": "Python 3.10.5 ('desktop_env')",
   "language": "python",
   "name": "python3"
  },
  "language_info": {
   "codemirror_mode": {
    "name": "ipython",
    "version": 3
   },
   "file_extension": ".py",
   "mimetype": "text/x-python",
   "name": "python",
   "nbconvert_exporter": "python",
   "pygments_lexer": "ipython3",
   "version": "3.10.5"
  },
  "orig_nbformat": 4,
  "vscode": {
   "interpreter": {
    "hash": "b4dc6631ffef5a733ac58430eb0e8cf8f73f165587c4c3dfb32dbf0eaaadea6b"
   }
  }
 },
 "nbformat": 4,
 "nbformat_minor": 2
}
