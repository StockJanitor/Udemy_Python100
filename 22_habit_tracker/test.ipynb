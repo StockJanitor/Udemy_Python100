{
 "cells": [
  {
   "cell_type": "code",
   "execution_count": 1,
   "metadata": {},
   "outputs": [],
   "source": [
    "from pixela_module import Pixela\n",
    "\n",
    "\n",
    "\n",
    "path_pixela = r\"C:\\Users\\Gumo\\Desktop\\Git\\Notebook\\keys\\pixela.txt\"\n",
    "\n",
    "with open(path_pixela,\"r\") as newsfile:\n",
    "    TOKEN = newsfile.readline()\n",
    "\n",
    "a = Pixela(\"stockjanitor\",TOKEN)"
   ]
  },
  {
   "cell_type": "code",
   "execution_count": 8,
   "metadata": {},
   "outputs": [
    {
     "name": "stdout",
     "output_type": "stream",
     "text": [
      "{\"message\":\"This graphID already exist.\",\"isSuccess\":false}\n",
      "https://pixe.la/v1/users/stockjanitor/graphs/testing2.html\n"
     ]
    }
   ],
   "source": [
    "a.create_graph(\"testing2\",\"Test Title\", \"km\")"
   ]
  },
  {
   "cell_type": "code",
   "execution_count": 2,
   "metadata": {},
   "outputs": [
    {
     "name": "stdout",
     "output_type": "stream",
     "text": [
      "{\"message\":\"Success.\",\"isSuccess\":true}\n",
      "https://pixe.la/v1/users/stockjanitor/graphs/testing2.html\n"
     ]
    }
   ],
   "source": [
    "a.update_graph(\"testing2\",20220805,20)"
   ]
  },
  {
   "cell_type": "code",
   "execution_count": null,
   "metadata": {},
   "outputs": [],
   "source": []
  }
 ],
 "metadata": {
  "kernelspec": {
   "display_name": "Python 3.10.5 ('desktop_env')",
   "language": "python",
   "name": "python3"
  },
  "language_info": {
   "codemirror_mode": {
    "name": "ipython",
    "version": 3
   },
   "file_extension": ".py",
   "mimetype": "text/x-python",
   "name": "python",
   "nbconvert_exporter": "python",
   "pygments_lexer": "ipython3",
   "version": "3.10.5"
  },
  "orig_nbformat": 4,
  "vscode": {
   "interpreter": {
    "hash": "b4dc6631ffef5a733ac58430eb0e8cf8f73f165587c4c3dfb32dbf0eaaadea6b"
   }
  }
 },
 "nbformat": 4,
 "nbformat_minor": 2
}
