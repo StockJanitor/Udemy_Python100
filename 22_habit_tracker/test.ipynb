{
 "cells": [
  {
   "cell_type": "code",
   "execution_count": 6,
   "metadata": {},
   "outputs": [
    {
     "name": "stdout",
     "output_type": "stream",
     "text": [
      "20220818\n"
     ]
    }
   ],
   "source": [
    "from pixela_module import Pixela\n",
    "from datetime import datetime\n",
    "\n",
    "# today's date and convert to str YYYYMMDD\n",
    "today = datetime.now().strftime(\"%Y%m%d\")\n",
    "\n",
    "# path for token\n",
    "path_pixela = r\"C:\\Users\\Gumo\\Desktop\\Git\\Notebook\\keys\\pixela.txt\"\n",
    "# load token\n",
    "with open(path_pixela,\"r\") as newsfile:\n",
    "    TOKEN = newsfile.readline()\n",
    "\n",
    "#initialize object\n",
    "a = Pixela(\"stockjanitor\",TOKEN)\n"
   ]
  },
  {
   "cell_type": "code",
   "execution_count": null,
   "metadata": {},
   "outputs": [],
   "source": [
    "a.update_graph(\"steak\",today,500)"
   ]
  }
 ],
 "metadata": {
  "kernelspec": {
   "display_name": "Python 3.10.5 ('desktop_env')",
   "language": "python",
   "name": "python3"
  },
  "language_info": {
   "codemirror_mode": {
    "name": "ipython",
    "version": 3
   },
   "file_extension": ".py",
   "mimetype": "text/x-python",
   "name": "python",
   "nbconvert_exporter": "python",
   "pygments_lexer": "ipython3",
   "version": "3.10.5"
  },
  "orig_nbformat": 4,
  "vscode": {
   "interpreter": {
    "hash": "b4dc6631ffef5a733ac58430eb0e8cf8f73f165587c4c3dfb32dbf0eaaadea6b"
   }
  }
 },
 "nbformat": 4,
 "nbformat_minor": 2
}
