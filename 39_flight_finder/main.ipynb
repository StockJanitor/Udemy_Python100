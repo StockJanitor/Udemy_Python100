{
 "cells": [
  {
   "cell_type": "code",
   "execution_count": 11,
   "metadata": {},
   "outputs": [],
   "source": [
    "path_tokens = r\"C:\\Users\\Gumo\\Desktop\\Git\\Projects\\Notebook\\keys\\token.json\"    # desktop,\n",
    "import json\n",
    "import requests\n",
    "from pprint import pprint\n"
   ]
  },
  {
   "cell_type": "code",
   "execution_count": 8,
   "metadata": {},
   "outputs": [],
   "source": [
    "\n",
    "with open (path_tokens,\"r\") as data:\n",
    "    tokens = json.load(data)\n",
    "\n",
    "url_sheety = \"https://api.sheety.co/ea4e04f3d9056ed487f8bd704c87649f/flightDeals/sheet1\"\n"
   ]
  },
  {
   "cell_type": "code",
   "execution_count": 12,
   "metadata": {},
   "outputs": [
    {
     "name": "stdout",
     "output_type": "stream",
     "text": [
      "{'sheet1': [{'city': 'Paris', 'iataCode': '', 'id': 2, 'lowestPrice': 54},\n",
      "            {'city': 'Berlin', 'iataCode': '', 'id': 3, 'lowestPrice': 42},\n",
      "            {'city': 'Tokyo', 'iataCode': '', 'id': 4, 'lowestPrice': 485},\n",
      "            {'city': 'Sydney', 'iataCode': '', 'id': 5, 'lowestPrice': 551},\n",
      "            {'city': 'Istanbul', 'iataCode': '', 'id': 6, 'lowestPrice': 95},\n",
      "            {'city': 'Kuala Lumpur',\n",
      "             'iataCode': '',\n",
      "             'id': 7,\n",
      "             'lowestPrice': 414},\n",
      "            {'city': 'New York', 'iataCode': '', 'id': 8, 'lowestPrice': 240},\n",
      "            {'city': 'San Francisco',\n",
      "             'iataCode': '',\n",
      "             'id': 9,\n",
      "             'lowestPrice': 260},\n",
      "            {'city': 'Cape Town',\n",
      "             'iataCode': '',\n",
      "             'id': 10,\n",
      "             'lowestPrice': 378}]}\n"
     ]
    }
   ],
   "source": [
    "# obtaining data\n",
    "response = requests.get(url_sheety,headers=tokens[\"sheety\"])\n",
    "pprint(response.json())"
   ]
  },
  {
   "cell_type": "code",
   "execution_count": null,
   "metadata": {},
   "outputs": [],
   "source": [
    "# post\n",
    "input_sheety = {\n",
    "    'sheet1': {'date': '2/6/2023', 'ticker': 'GAP', 'price': 20}\n",
    "}\n",
    "post = requests.post(url=url_sheety,json=input_sheety,headers=token_sheety)\n",
    "print(post.text)"
   ]
  }
 ],
 "metadata": {
  "kernelspec": {
   "display_name": "desktop_env",
   "language": "python",
   "name": "python3"
  },
  "language_info": {
   "codemirror_mode": {
    "name": "ipython",
    "version": 3
   },
   "file_extension": ".py",
   "mimetype": "text/x-python",
   "name": "python",
   "nbconvert_exporter": "python",
   "pygments_lexer": "ipython3",
   "version": "3.10.5"
  },
  "orig_nbformat": 4
 },
 "nbformat": 4,
 "nbformat_minor": 2
}
