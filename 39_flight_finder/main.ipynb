{
 "cells": [
  {
   "cell_type": "code",
   "execution_count": 13,
   "metadata": {},
   "outputs": [],
   "source": [
    "path_tokens = r\"C:\\Users\\Gumo\\Desktop\\Git\\Projects\\Notebook\\keys\\token.json\"    # desktop,\n",
    "import json\n",
    "import requests\n",
    "from pprint import pprint\n",
    " "
   ]
  },
  {
   "cell_type": "code",
   "execution_count": 14,
   "metadata": {},
   "outputs": [],
   "source": [
    "# load token and sheety link\n",
    "with open (path_tokens,\"r\") as data:\n",
    "    tokens = json.load(data)\n",
    "\n",
    "url_sheety = \"https://api.sheety.co/ea4e04f3d9056ed487f8bd704c87649f/flightDeals/sheet1\"\n"
   ]
  },
  {
   "cell_type": "code",
   "execution_count": 23,
   "metadata": {},
   "outputs": [
    {
     "data": {
      "text/plain": [
       "<Response [200]>"
      ]
     },
     "execution_count": 23,
     "metadata": {},
     "output_type": "execute_result"
    }
   ],
   "source": [
    "# obtaining data\n",
    "response = requests.get(url_sheety,headers=tokens[\"sheety\"])\n"
   ]
  },
  {
   "cell_type": "code",
   "execution_count": 33,
   "metadata": {},
   "outputs": [
    {
     "data": {
      "text/plain": [
       "[{'city': 'Paris', 'iataCode': '', 'lowestPrice': 54, 'id': 2},\n",
       " {'city': 'Berlin', 'iataCode': '', 'lowestPrice': 42, 'id': 3},\n",
       " {'city': 'Tokyo', 'iataCode': '', 'lowestPrice': 485, 'id': 4},\n",
       " {'city': 'Sydney', 'iataCode': '', 'lowestPrice': 551, 'id': 5},\n",
       " {'city': 'Istanbul', 'iataCode': '', 'lowestPrice': 95, 'id': 6},\n",
       " {'city': 'Kuala Lumpur', 'iataCode': '', 'lowestPrice': 414, 'id': 7},\n",
       " {'city': 'New York', 'iataCode': '', 'lowestPrice': 240, 'id': 8},\n",
       " {'city': 'San Francisco', 'iataCode': '', 'lowestPrice': 260, 'id': 9},\n",
       " {'city': 'Cape Town', 'iataCode': '', 'lowestPrice': 378, 'id': 10}]"
      ]
     },
     "execution_count": 33,
     "metadata": {},
     "output_type": "execute_result"
    }
   ],
   "source": [
    "data = response.json()\n",
    "data[\"sheet1\"]"
   ]
  },
  {
   "cell_type": "code",
   "execution_count": null,
   "metadata": {},
   "outputs": [],
   "source": [
    "# post\n",
    "input_sheety = {\n",
    "    'sheet1': {'date': '2/6/2023', 'ticker': 'GAP', 'price': 20}\n",
    "}\n",
    "post = requests.post(url=url_sheety,json=input_sheety,headers=token_sheety)\n",
    "print(post.text)"
   ]
  }
 ],
 "metadata": {
  "kernelspec": {
   "display_name": "desktop_env",
   "language": "python",
   "name": "python3"
  },
  "language_info": {
   "codemirror_mode": {
    "name": "ipython",
    "version": 3
   },
   "file_extension": ".py",
   "mimetype": "text/x-python",
   "name": "python",
   "nbconvert_exporter": "python",
   "pygments_lexer": "ipython3",
   "version": "3.10.5"
  },
  "orig_nbformat": 4
 },
 "nbformat": 4,
 "nbformat_minor": 2
}
