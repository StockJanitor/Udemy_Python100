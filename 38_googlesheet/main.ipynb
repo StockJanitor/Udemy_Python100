{
 "cells": [
  {
   "cell_type": "code",
   "execution_count": 22,
   "metadata": {},
   "outputs": [],
   "source": [
    "import requests\n",
    "url_sheety = \"https://api.sheety.co/ea4e04f3d9056ed487f8bd704c87649f/testing/sheet1\"\n",
    "token_sheety = {\n",
    "'Content-Type': 'application/json',\n",
    "'Authorization': \"Bearer password1\"\n",
    "}"
   ]
  },
  {
   "cell_type": "code",
   "execution_count": 23,
   "metadata": {},
   "outputs": [
    {
     "name": "stdout",
     "output_type": "stream",
     "text": [
      "{'sheet1': [{'date': '2/6/2023', 'ticker': 'AAPL', 'price': 130, 'id': 2}, {'date': '1/2/2023', 'ticker': 'TSLA', 'price': 200, 'id': 3}, {'date': '2/3/2023', 'ticker': 'BMY', 'price': 80, 'id': 4}]}\n"
     ]
    }
   ],
   "source": [
    "response = requests.get(url_sheety,headers=token_sheety)\n",
    "print(response.json())"
   ]
  },
  {
   "cell_type": "code",
   "execution_count": 19,
   "metadata": {},
   "outputs": [],
   "source": [
    "input_sheety = {\n",
    "    'sheet1': {'date': '2/3/2023', 'ticker': 'BMY', 'price': 80}\n",
    "}"
   ]
  },
  {
   "cell_type": "code",
   "execution_count": 20,
   "metadata": {},
   "outputs": [
    {
     "data": {
      "text/plain": [
       "'{\\n  \"sheet1\": {\\n    \"date\": \"2/3/2023\",\\n    \"ticker\": \"BMY\",\\n    \"price\": 80,\\n    \"id\": 4\\n  }\\n}'"
      ]
     },
     "execution_count": 20,
     "metadata": {},
     "output_type": "execute_result"
    }
   ],
   "source": [
    "post = requests.post(url=url_sheety,json=input_sheety,headers=token_sheety)\n",
    "print(post.text)"
   ]
  },
  {
   "cell_type": "code",
   "execution_count": null,
   "metadata": {},
   "outputs": [],
   "source": []
  }
 ],
 "metadata": {
  "kernelspec": {
   "display_name": "desktop_env",
   "language": "python",
   "name": "python3"
  },
  "language_info": {
   "codemirror_mode": {
    "name": "ipython",
    "version": 3
   },
   "file_extension": ".py",
   "mimetype": "text/x-python",
   "name": "python",
   "nbconvert_exporter": "python",
   "pygments_lexer": "ipython3",
   "version": "3.10.5"
  },
  "orig_nbformat": 4,
  "vscode": {
   "interpreter": {
    "hash": "b4dc6631ffef5a733ac58430eb0e8cf8f73f165587c4c3dfb32dbf0eaaadea6b"
   }
  }
 },
 "nbformat": 4,
 "nbformat_minor": 2
}
